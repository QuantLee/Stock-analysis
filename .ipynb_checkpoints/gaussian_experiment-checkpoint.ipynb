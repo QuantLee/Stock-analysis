{
 "cells": [
  {
   "cell_type": "code",
   "execution_count": 1,
   "metadata": {},
   "outputs": [
    {
     "name": "stdout",
     "output_type": "stream",
     "text": [
      "Stock: GOOGL\n"
     ]
    },
    {
     "data": {
      "image/png": "[encoded data removed]",
      "text/plain": [
       "<matplotlib.figure.Figure at 0x104af3550>"
      ]
     },
     "metadata": {},
     "output_type": "display_data"
    }
   ],
   "source": [
    "import get_stock_data as gd\n",
    "import stock_plot as sp\n",
    "import matplotlib.pyplot as plt\n",
    "import numpy as np\n",
    "from pylab import *\n",
    "import pandas as pd\n",
    "import pickle\n",
    "import os\n",
    "df = gd.get_stock_data('GOOGL')\n",
    "df.dropna()\n",
    "sp.single_index_plot(df, 'Close')\n",
    "price = df['Close']\n",
    "rate = np.array(price.shift(1) / price - 1)\n",
    "rate = rate[1:]\n",
    "plt.show()"
   ]
  },
  {
   "cell_type": "code",
   "execution_count": null,
   "metadata": {},
   "outputs": [
    {
     "name": "stdout",
     "output_type": "stream",
     "text": [
      "0.5018181818181818\n"
     ]
    }
   ],
   "source": [
    "from scipy.stats import norm\n",
    "from scipy.stats import expon\n",
    "import matplotlib.pyplot as plt\n",
    "import math\n",
    "\n",
    "def acummulated_norm(x, rate, begin, end):\n",
    "    an = np.array([norm.pdf(x, loc = mu, scale=0.007) for mu in rate[begin:end]])\n",
    "    w = np.array([expon.pdf(x, loc=0, scale=1) for x in 0.1*np.arange(1, end-begin + 1)])\n",
    "    #w = w/sum(w)\n",
    "    val = np.dot(w,an)\n",
    "    return val\n",
    "\n",
    "data_size = len(rate)\n",
    "time_lag = 15\n",
    "begin = 0\n",
    "end = begin + time_lag\n",
    "correct_prediction = 0\n",
    "prediction = 0\n",
    "\n",
    "for i in range(data_size - time_lag-1):\n",
    "    prediction = prediction + 1\n",
    "    xx = np.linspace(-0.05,0.05,1000)\n",
    "    yy = acummulated_norm(xx, rate, begin, end) \n",
    "    predict = xx[np.argmax(yy)]\n",
    "    # count the number of correct prediction of the direction\n",
    "    if rate[end+1] * predict > 0:\n",
    "        correct_prediction = correct_prediction + 1\n",
    "    # plt.show()\n",
    "    begin = begin + 1\n",
    "    end = end + 1\n",
    "\n",
    "print(correct_prediction/prediction)"
   ]
  },
  {
   "cell_type": "code",
   "execution_count": null,
   "metadata": {},
   "outputs": [
    {
     "name": "stdout",
     "output_type": "stream",
     "text": [
      "0.49855282199710566\n",
      "0.4945691527878349\n",
      "0.48478260869565215\n",
      "0.5025380710659898\n",
      "0.5014513788098693\n",
      "0.5061728395061729\n",
      "0.5109011627906976\n",
      "0.5018181818181818\n",
      "0.49199417758369723\n",
      "0.48215586307356156\n",
      "0.4970845481049563\n",
      "0.49161196207148067\n",
      "0.4846715328467153\n"
     ]
    }
   ],
   "source": [
    "#time_lag adjust\n",
    "result = []\n",
    "for time_lag in range(8,30):\n",
    "    begin = 0\n",
    "    end = begin + time_lag\n",
    "    correct_prediction = 0\n",
    "    prediction = 0\n",
    "\n",
    "    for i in range(data_size - time_lag-1):\n",
    "        prediction = prediction + 1\n",
    "        xx = np.linspace(-0.05,0.05,1000)\n",
    "        yy = acummulated_norm(xx, rate, begin, end) \n",
    "        predict = xx[np.argmax(yy)]\n",
    "        # count the number of correct prediction of the direction\n",
    "        if rate[end+1] * predict > 0:\n",
    "            correct_prediction = correct_prediction + 1\n",
    "        # plt.show()\n",
    "        begin = begin + 1\n",
    "        end = end + 1\n",
    "    \n",
    "    print(correct_prediction/prediction)\n",
    "    result.append(correct_prediction/prediction)"
   ]
  },
  {
   "cell_type": "code",
   "execution_count": null,
   "metadata": {},
   "outputs": [],
   "source": [
    "# corrlation table\n",
    "def visualize_cor_table(stocks , rate = False):\n",
    "    if not rate:\n",
    "        df = pd.read_csv('sp500_joined_closes.csv')\n",
    "    if rate:\n",
    "        df = pd.read_csv('sp500_joined_rates.csv')\n",
    "    df = df[stocks]\n",
    "    '''\n",
    "        #choose number of stocks involved\n",
    "        #df = df.ix[:,0:10]\n",
    "        #choose several particular stock involve\n",
    "        #df = df[['GOOG','MSFT','IBM','AAPL','FB','ORCL','AMZN']]\n",
    "        '''\n",
    "    # we can see the whole correlation table\n",
    "    df_corr = df.corr()\n",
    "    data1 = df_corr.values\n",
    "    # build a correlation plot\n",
    "    plt.style = 'ggplot'\n",
    "    fig1 = plt.figure(figsize=(10,5))\n",
    "    plt.title('Correlation table of' + 'Rate of Return'*rate + 'Price of Stock'*(rate-1), y=1.08)\n",
    "    ax1 = fig1.add_subplot(111)\n",
    "    # red for negtive correlation and green for positive correlation and yellow for no corelation\n",
    "    heatmap1 = ax1.pcolor(data1, cmap=cm.RdYlGn)\n",
    "    fig1.colorbar(heatmap1)\n",
    "    ax1.set_xticks(arange(data1.shape[1]) + 0.5, minor=False)\n",
    "    ax1.set_yticks(arange(data1.shape[0]) + 0.5, minor=False)\n",
    "    ax1.invert_yaxis()\n",
    "    ax1.xaxis.tick_top()\n",
    "    column_labels = df_corr.columns\n",
    "    row_labels = df_corr.index\n",
    "    ax1.set_xticklabels(column_labels)\n",
    "    ax1.set_yticklabels(row_labels)\n",
    "    #xticks(rotation = 90)\n",
    "    heatmap1.set_clim(-1, 1)\n",
    "    tight_layout()\n",
    "    #plt.savefig('correlations.png', dpi = (300))\n",
    "    \n",
    "stocks = ['GOOG','MSFT','IBM','AAPL','FB','ORCL','AMZN']\n",
    "visualize_cor_table(stocks)\n",
    "plt.savefig('close_price_correlations.png', dpi = (300))\n",
    "plt.show()\n",
    "visualize_cor_table(stocks, rate = True)\n",
    "plt.savefig('rate_return_correlations.png', dpi = (300))\n",
    "plt,show()"
   ]
  },
  {
   "cell_type": "code",
   "execution_count": null,
   "metadata": {},
   "outputs": [],
   "source": [
    "from random import shuffle\n",
    "with open(\"sp500tickers.pickle\", \"rb\") as f:\n",
    "    tickers = pickle.load(f)\n",
    "\n",
    "# there might be tickers that the web can not reach\n",
    "tickers= [t for t in tickers if os.path.exists('stock_dfs/{}.csv'.format(t))]\n",
    "shuffle(tickers)\n",
    "\n",
    "stocks = tickers[1:20]\n",
    "visualize_cor_table(stocks)\n",
    "plt.savefig('close_price_correlations.png', dpi = (300))\n",
    "plt.show()\n",
    "visualize_cor_table(stocks, rate = True)\n",
    "plt.savefig('rate_return_correlations.png', dpi = (300))\n",
    "plt,show()"
   ]
  },
  {
   "cell_type": "code",
   "execution_count": null,
   "metadata": {
    "collapsed": true
   },
   "outputs": [],
   "source": []
  }
 ],
 "metadata": {
  "kernelspec": {
   "display_name": "Python 3",
   "language": "python",
   "name": "python3"
  },
  "language_info": {
   "codemirror_mode": {
    "name": "ipython",
    "version": 3
   },
   "file_extension": ".py",
   "mimetype": "text/x-python",
   "name": "python",
   "nbconvert_exporter": "python",
   "pygments_lexer": "ipython3",
   "version": "3.6.1"
  }
 },
 "nbformat": 4,
 "nbformat_minor": 2
}
