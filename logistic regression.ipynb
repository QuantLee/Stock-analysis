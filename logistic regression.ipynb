{
 "cells": [
  {
   "cell_type": "code",
   "execution_count": 3,
   "metadata": {},
   "outputs": [
    {
     "name": "stdout",
     "output_type": "stream",
     "text": [
      "                 MMM       ABT      ABBV       ACN      ATVI       AYI  \\\n",
      "Date                                                                     \n",
      "2016-01-04       NaN       NaN       NaN       NaN       NaN       NaN   \n",
      "2016-01-05 -0.004340  0.000233  0.004183 -0.005178  0.012924 -0.012533   \n",
      "2016-01-06  0.020555  0.008459 -0.000174  0.001958  0.009513  0.027094   \n",
      "2016-01-07  0.024970  0.024555  0.002972  0.030254  0.014337  0.027252   \n",
      "2016-01-08  0.003417  0.021392  0.028032  0.009776  0.015682  0.038797   \n",
      "2016-01-11  0.000214 -0.001473  0.032851 -0.010380 -0.013808  0.044346   \n",
      "2016-01-12 -0.002840 -0.017607 -0.017505 -0.017622 -0.024515 -0.013294   \n",
      "2016-01-13  0.015427  0.029295  0.071512  0.017630  0.064831  0.047803   \n",
      "2016-01-14 -0.017425 -0.019951 -0.061950 -0.025717 -0.015254 -0.035894   \n",
      "2016-01-15  0.017954  0.013814 -0.048483  0.026292  0.014036  0.019403   \n",
      "\n",
      "                ADBE       AMD       AAP       AES    ...         WYNN  \\\n",
      "Date                                                  ...                \n",
      "2016-01-04       NaN       NaN       NaN       NaN    ...          NaN   \n",
      "2016-01-05 -0.004007  0.007273  0.006878 -0.013598    ...    -0.018553   \n",
      "2016-01-06  0.014502  0.100000  0.027174  0.035753    ...     0.054636   \n",
      "2016-01-07  0.021434  0.096491 -0.010952  0.025556    ...     0.103838   \n",
      "2016-01-08  0.014343  0.065421  0.022465 -0.014239    ...     0.042432   \n",
      "2016-01-11 -0.017118 -0.085470 -0.010133  0.011074    ...     0.016728   \n",
      "2016-01-12 -0.004899 -0.020921 -0.006889  0.032000    ...     0.021036   \n",
      "2016-01-13  0.017214  0.062222  0.041573  0.012731    ...     0.060034   \n",
      "2016-01-14 -0.016704  0.018100  0.005944 -0.023729    ...     0.018835   \n",
      "2016-01-15  0.007065  0.088670 -0.020584  0.036300    ...    -0.117697   \n",
      "\n",
      "                 XEL       XRX      XLNX  XL       XYL       YUM       ZBH  \\\n",
      "Date                                                                         \n",
      "2016-01-04       NaN       NaN       NaN NaN       NaN       NaN       NaN   \n",
      "2016-01-05 -0.009983  0.001946 -0.014630 NaN  0.000277  0.002499 -0.020398   \n",
      "2016-01-06 -0.010428  0.012808  0.018628 NaN  0.012633  0.007131 -0.004311   \n",
      "2016-01-07 -0.003827  0.028369  0.041068 NaN  0.026513  0.035321  0.023534   \n",
      "2016-01-08  0.011056  0.029197  0.020964 NaN  0.009601  0.013795  0.004234   \n",
      "2016-01-11 -0.007952  0.020213 -0.004406 NaN  0.008509  0.001764  0.017535   \n",
      "2016-01-12  0.003854 -0.013641 -0.005535 NaN -0.005544 -0.022280 -0.029843   \n",
      "2016-01-13  0.006092  0.033623  0.034598 NaN  0.026663  0.007823  0.016502   \n",
      "2016-01-14 -0.016344  0.004357 -0.011790 NaN -0.005660 -0.013998 -0.014606   \n",
      "2016-01-15  0.005753  0.008791 -0.009344 NaN  0.017890  0.043524  0.016027   \n",
      "\n",
      "                ZION       ZTS  \n",
      "Date                            \n",
      "2016-01-04       NaN       NaN  \n",
      "2016-01-05  0.010977 -0.015413  \n",
      "2016-01-06  0.030019 -0.000208  \n",
      "2016-01-07  0.030949  0.031357  \n",
      "2016-01-08  0.011382  0.014821  \n",
      "2016-01-11  0.020324  0.029161  \n",
      "2016-01-12  0.004165 -0.008672  \n",
      "2016-01-13  0.048930  0.039769  \n",
      "2016-01-14 -0.004350 -0.019941  \n",
      "2016-01-15  0.029096  0.017289  \n",
      "\n",
      "[10 rows x 502 columns]\n"
     ]
    }
   ],
   "source": [
    "import os\n",
    "import numpy as np\n",
    "import get_stock_data as gd\n",
    "import stock_plot as sp\n",
    "import pickle\n",
    "import matplotlib.pyplot as plt\n",
    "import get_market_data as gmd\n",
    "data = gmd.Rate_return_compile()\n",
    "with open(\"sp500tickers.pickle\", \"rb\") as f:\n",
    "    tickers = pickle.load(f)\n",
    "# there might be tickers that the web can not reach\n",
    "tickers = [t for t in tickers if os.path.exists('stock_dfs/{}.csv'.format(t))]\n",
    "data = data.fillna(method='ffill')\n",
    "data = data.fillna(0)"
   ]
  },
  {
   "cell_type": "code",
   "execution_count": 4,
   "metadata": {
    "collapsed": true
   },
   "outputs": [],
   "source": [
    "# constuct X, construct Y\n",
    "stock = 'GE'\n",
    "lag = 7\n",
    "nx = lag*data.shape[1]\n",
    "X = np.array([[]]*nx)\n",
    "Y = []\n",
    "for i in range(data.shape[0]-lag):\n",
    "    x = data.iloc[i:i+lag]\n",
    "    xval = x.values\n",
    "    xval = xval.reshape((xval.shape[1]*lag,1))\n",
    "    X = np.column_stack((X,xval))\n",
    "    if data[stock][i+lag]>=0:\n",
    "        Y.append(1)\n",
    "    else:\n",
    "        Y.append(0)\n",
    "m = len(Y)\n",
    "Y = np.array([Y])\n",
    "Y = Y.reshape((1,m))"
   ]
  },
  {
   "cell_type": "code",
   "execution_count": 5,
   "metadata": {},
   "outputs": [
    {
     "name": "stdout",
     "output_type": "stream",
     "text": [
      "(3514, 317)\n",
      "(1, 317)\n",
      "(3514, 80)\n",
      "(1, 80)\n"
     ]
    }
   ],
   "source": [
    "# construct train_set_x, train_set_y   construct test_set_x, test_set_y \n",
    "trainportion = 0.8\n",
    "check = int(trainportion*m)\n",
    "X_train = X[:,:check]\n",
    "Y_train = Y[0,:check].reshape(1,check)\n",
    "X_test = X[:,check:]\n",
    "Y_test = Y[0,check:].reshape(1,m-check)\n",
    "print(X_train.shape)\n",
    "print(Y_train.shape)\n",
    "print(X_test.shape)\n",
    "print(Y_test.shape)"
   ]
  },
  {
   "cell_type": "code",
   "execution_count": 6,
   "metadata": {},
   "outputs": [
    {
     "name": "stdout",
     "output_type": "stream",
     "text": [
      "train accuracy: 46.37223974763407 %\n",
      "test accuracy: 52.5 %\n"
     ]
    }
   ],
   "source": [
    "# logistic regression\n",
    "import logistic_regression as lr\n",
    "model = lr.model(X_train, Y_train, X_test, Y_test, num_iterations=3000, learning_rate=0.0001, print_cost=False)"
   ]
  },
  {
   "cell_type": "code",
   "execution_count": 7,
   "metadata": {},
   "outputs": [
    {
     "data": {
      "text/plain": [
       "0.525"
      ]
     },
     "execution_count": 7,
     "metadata": {},
     "output_type": "execute_result"
    }
   ],
   "source": [
    "# 2 level neural network\n",
    "from sklearn.neural_network import MLPClassifier\n",
    "clf = MLPClassifier(solver='lbfgs', alpha=1e-5,hidden_layer_sizes=(100, 3), random_state=1)\n",
    "a = clf.fit(X_train.T, Y_train.flatten()) \n",
    "Y_predict = clf.predict(X_test.T)\n",
    "Y_test = Y_test.flatten()\n",
    "match = [1 for i in range(len(Y_test)) if Y_predict[i] == Y_test[i]]\n",
    "sum(match)/len(Y_test)"
   ]
  },
  {
   "cell_type": "code",
   "execution_count": 8,
   "metadata": {},
   "outputs": [
    {
     "name": "stdout",
     "output_type": "stream",
     "text": [
      "['MMM', 'ABT', 'ABBV', 'ACN', 'ATVI', 'AYI', 'ADBE', 'AMD', 'AAP', 'AES', 'AET', 'AMG', 'AFL', 'A', 'APD', 'AKAM', 'ALK', 'ALB', 'ARE', 'ALXN', 'ALGN', 'ALLE', 'AGN', 'ADS', 'LNT', 'ALL', 'GOOGL', 'GOOG', 'MO', 'AMZN', 'AEE', 'AAL', 'AEP', 'AXP', 'AIG', 'AMT', 'AWK', 'AMP', 'ABC', 'AME', 'AMGN', 'APH', 'APC', 'ADI', 'ANDV', 'ANSS', 'ANTM', 'AON', 'AOS', 'APA', 'AIV', 'AAPL', 'AMAT', 'ADM', 'ARNC', 'AJG', 'AIZ', 'T', 'ADSK', 'ADP', 'AZO', 'AVB', 'AVY', 'BHGE', 'BLL', 'BAC', 'BK', 'BCR', 'BAX', 'BBT', 'BDX', 'BRK.B', 'BBY', 'BIIB', 'BLK', 'HRB', 'BA', 'BWA', 'BXP', 'BSX', 'BHF', 'BMY', 'AVGO', 'BF.B', 'CHRW', 'CA', 'COG', 'CPB', 'COF', 'CAH', 'CBOE', 'KMX', 'CCL', 'CAT', 'CBG', 'CBS', 'CELG', 'CNC', 'CNP', 'CTL', 'CERN', 'CF', 'SCHW', 'CHTR', 'CHK', 'CVX', 'CMG', 'CB', 'CHD', 'CI', 'XEC', 'CINF', 'CTAS', 'CSCO', 'C', 'CFG', 'CTXS', 'CLX', 'CME', 'CMS', 'COH', 'KO', 'CTSH', 'CL', 'CMCSA', 'CMA', 'CAG', 'CXO', 'COP', 'ED', 'STZ', 'COO', 'GLW', 'COST', 'COTY', 'CCI', 'CSRA', 'CSX', 'CMI', 'CVS', 'DHI', 'DHR', 'DRI', 'DVA', 'DE', 'DLPH', 'DAL', 'XRAY', 'DVN', 'DLR', 'DFS', 'DISCA', 'DISCK', 'DISH', 'DG', 'DLTR', 'D', 'DOV', 'DOW', 'DPS', 'DTE', 'DRE', 'DD', 'DUK', 'DXC', 'ETFC', 'EMN', 'ETN', 'EBAY', 'ECL', 'EIX', 'EW', 'EA', 'EMR', 'ETR', 'EVHC', 'EOG', 'EQT', 'EFX', 'EQIX', 'EQR', 'ESS', 'EL', 'ES', 'RE', 'EXC', 'EXPE', 'EXPD', 'ESRX', 'EXR', 'XOM', 'FFIV', 'FB', 'FAST', 'FRT', 'FDX', 'FIS', 'FITB', 'FE', 'FISV', 'FLIR', 'FLS', 'FLR', 'FMC', 'FL', 'F', 'FTV', 'FBHS', 'BEN', 'FCX', 'GPS', 'GRMN', 'IT', 'GD', 'GE', 'GGP', 'GIS', 'GM', 'GPC', 'GILD', 'GPN', 'GS', 'GT', 'GWW', 'HAL', 'HBI', 'HOG', 'HRS', 'HIG', 'HAS', 'HCA', 'HCP', 'HP', 'HSIC', 'HSY', 'HES', 'HPE', 'HLT', 'HOLX', 'HD', 'HON', 'HRL', 'HST', 'HPQ', 'HUM', 'HBAN', 'IDXX', 'INFO', 'ITW', 'ILMN', 'IR', 'INTC', 'ICE', 'IBM', 'INCY', 'IP', 'IPG', 'IFF', 'INTU', 'ISRG', 'IVZ', 'IRM', 'JEC', 'JBHT', 'SJM', 'JNJ', 'JCI', 'JPM', 'JNPR', 'KSU', 'K', 'KEY', 'KMB', 'KIM', 'KMI', 'KLAC', 'KSS', 'KHC', 'KR', 'LB', 'LLL', 'LH', 'LRCX', 'LEG', 'LEN', 'LVLT', 'LUK', 'LLY', 'LNC', 'LKQ', 'L', 'LOW', 'LYB', 'MTB', 'MAC', 'M', 'MRO', 'MPC', 'MAR', 'MMC', 'MLM', 'MAS', 'MA', 'MAT', 'MKC', 'MCD', 'MCK', 'MDT', 'MRK', 'MET', 'MTD', 'MGM', 'KORS', 'MCHP', 'MU', 'MSFT', 'MAA', 'MHK', 'TAP', 'MDLZ', 'MON', 'MNST', 'MCO', 'MS', 'MOS', 'MSI', 'MYL', 'NDAQ', 'NOV', 'NAVI', 'NTAP', 'NFLX', 'NFX', 'NEM', 'NWSA', 'NWS', 'NEE', 'NLSN', 'NKE', 'NI', 'JWN', 'NSC', 'NTRS', 'NOC', 'NRG', 'NUE', 'NVDA', 'ORLY', 'OXY', 'OMC', 'OKE', 'ORCL', 'PCAR', 'PKG', 'PH', 'PDCO', 'PAYX', 'PYPL', 'PNR', 'PBCT', 'PEP', 'PKI', 'PRGO', 'PFE', 'PCG', 'PM', 'PSX', 'PNW', 'PXD', 'PNC', 'RL', 'PPG', 'PPL', 'PX', 'PCLN', 'PFG', 'PG', 'PGR', 'PLD', 'PRU', 'PEG', 'PSA', 'PHM', 'PVH', 'QRVO', 'PWR', 'QCOM', 'DGX', 'RRC', 'RJF', 'RTN', 'O', 'RHT', 'REG', 'REGN', 'RF', 'RSG', 'RMD', 'RHI', 'ROK', 'COL', 'ROP', 'ROST', 'RCL', 'CRM', 'SCG', 'SLB', 'SNI', 'STX', 'SEE', 'SRE', 'SHW', 'SIG', 'SPG', 'SWKS', 'SLG', 'SNA', 'SO', 'LUV', 'SPGI', 'SWK', 'SPLS', 'SBUX', 'STT', 'SRCL', 'SYK', 'STI', 'SYMC', 'SYF', 'SNPS', 'SYY', 'TROW', 'TGT', 'TEL', 'FTI', 'TXN', 'TXT', 'TMO', 'TIF', 'TWX', 'TJX', 'TMK', 'TSS', 'TSCO', 'TDG', 'TRV', 'TRIP', 'FOXA', 'FOX', 'TSN', 'UDR', 'ULTA', 'USB', 'UA', 'UAA', 'UNP', 'UAL', 'UNH', 'UPS', 'URI', 'UTX', 'UHS', 'UNM', 'VFC', 'VLO', 'VAR', 'VTR', 'VRSN', 'VRSK', 'VZ', 'VRTX', 'VIAB', 'V', 'VNO', 'VMC', 'WMT', 'WBA', 'DIS', 'WM', 'WAT', 'WEC', 'WFC', 'HCN', 'WDC', 'WU', 'WRK', 'WY', 'WHR', 'WFM', 'WMB', 'WLTW', 'WYN', 'WYNN', 'XEL', 'XRX', 'XLNX', 'XL', 'XYL', 'YUM', 'ZBH', 'ZION', 'ZTS']\n"
     ]
    }
   ],
   "source": [
    "print(tickers)"
   ]
  },
  {
   "cell_type": "code",
   "execution_count": null,
   "metadata": {
    "collapsed": true
   },
   "outputs": [],
   "source": []
  }
 ],
 "metadata": {
  "kernelspec": {
   "display_name": "Python 3",
   "language": "python",
   "name": "python3"
  },
  "language_info": {
   "codemirror_mode": {
    "name": "ipython",
    "version": 3
   },
   "file_extension": ".py",
   "mimetype": "text/x-python",
   "name": "python",
   "nbconvert_exporter": "python",
   "pygments_lexer": "ipython3",
   "version": "3.6.1"
  }
 },
 "nbformat": 4,
 "nbformat_minor": 2
}
